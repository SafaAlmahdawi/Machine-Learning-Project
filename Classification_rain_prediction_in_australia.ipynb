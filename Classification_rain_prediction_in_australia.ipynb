{
  "cells": [
    {
      "cell_type": "code",
      "execution_count": 1,
      "id": "5391129e",
      "metadata": {
        "_cell_guid": "b1076dfc-b9ad-4769-8c92-a6c4dae69d19",
        "_uuid": "8f2839f25d086af736a60e9eeb907d3b93b6e0e5",
        "execution": {
          "iopub.execute_input": "2022-12-27T06:47:23.853267Z",
          "iopub.status.busy": "2022-12-27T06:47:23.852713Z",
          "iopub.status.idle": "2022-12-27T06:47:25.032825Z",
          "shell.execute_reply": "2022-12-27T06:47:25.031660Z"
        },
        "papermill": {
          "duration": 1.197435,
          "end_time": "2022-12-27T06:47:25.035796",
          "exception": false,
          "start_time": "2022-12-27T06:47:23.838361",
          "status": "completed"
        },
        "tags": [],
        "id": "5391129e"
      },
      "outputs": [],
      "source": [
        "import pandas as pd\n",
        "from sklearn.linear_model import LogisticRegression\n",
        "from sklearn.linear_model import LinearRegression\n",
        "from sklearn import preprocessing\n",
        "import numpy as np\n",
        "\n",
        "from sklearn.neighbors import KNeighborsClassifier\n",
        "from sklearn.model_selection import train_test_split\n",
        "from sklearn.neighbors import KNeighborsClassifier\n",
        "from sklearn.tree import DecisionTreeClassifier\n",
        "from sklearn import svm\n",
        "from sklearn.metrics import jaccard_score\n",
        "from sklearn.metrics import f1_score\n",
        "from sklearn.metrics import log_loss\n",
        "from sklearn.metrics import confusion_matrix, accuracy_score\n",
        "import sklearn.metrics as metrics"
      ]
    },
    {
      "cell_type": "markdown",
      "id": "9358fa94",
      "metadata": {
        "papermill": {
          "duration": 0.010694,
          "end_time": "2022-12-27T06:47:38.392139",
          "exception": false,
          "start_time": "2022-12-27T06:47:38.381445",
          "status": "completed"
        },
        "tags": [],
        "id": "9358fa94"
      },
      "source": [
        "### Importing the Dataset"
      ]
    },
    {
      "cell_type": "code",
      "execution_count": 2,
      "id": "873792c1",
      "metadata": {
        "execution": {
          "iopub.execute_input": "2022-12-27T06:47:38.417150Z",
          "iopub.status.busy": "2022-12-27T06:47:38.416655Z",
          "iopub.status.idle": "2022-12-27T06:47:40.897990Z",
          "shell.execute_reply": "2022-12-27T06:47:40.896747Z"
        },
        "papermill": {
          "duration": 2.497037,
          "end_time": "2022-12-27T06:47:40.901022",
          "exception": false,
          "start_time": "2022-12-27T06:47:38.403985",
          "status": "completed"
        },
        "tags": [],
        "colab": {
          "base_uri": "https://localhost:8080/",
          "height": 255
        },
        "id": "873792c1",
        "outputId": "d6ccf2a1-547a-41af-fb8e-887ea2d07b4e"
      },
      "outputs": [
        {
          "output_type": "execute_result",
          "data": {
            "text/plain": [
              "       Date  MinTemp  MaxTemp  Rainfall  Evaporation  Sunshine WindGustDir  \\\n",
              "0  2/1/2008     19.5     22.4      15.6          6.2       0.0           W   \n",
              "1  2/2/2008     19.5     25.6       6.0          3.4       2.7           W   \n",
              "2  2/3/2008     21.6     24.5       6.6          2.4       0.1           W   \n",
              "3  2/4/2008     20.2     22.8      18.8          2.2       0.0           W   \n",
              "4  2/5/2008     19.7     25.7      77.4          4.8       0.0           W   \n",
              "\n",
              "   WindGustSpeed WindDir9am WindDir3pm  ...  Humidity9am  Humidity3pm  \\\n",
              "0             41          S        SSW  ...           92           84   \n",
              "1             41          W          E  ...           83           73   \n",
              "2             41        ESE        ESE  ...           88           86   \n",
              "3             41        NNE          E  ...           83           90   \n",
              "4             41        NNE          W  ...           88           74   \n",
              "\n",
              "   Pressure9am  Pressure3pm  Cloud9am  Cloud3pm  Temp9am  Temp3pm  RainToday  \\\n",
              "0       1017.6       1017.4         8         8     20.7     20.9        Yes   \n",
              "1       1017.9       1016.4         7         7     22.4     24.8        Yes   \n",
              "2       1016.7       1015.6         7         8     23.5     23.0        Yes   \n",
              "3       1014.2       1011.8         8         8     21.4     20.9        Yes   \n",
              "4       1008.3       1004.8         8         8     22.5     25.5        Yes   \n",
              "\n",
              "   RainTomorrow  \n",
              "0           Yes  \n",
              "1           Yes  \n",
              "2           Yes  \n",
              "3           Yes  \n",
              "4           Yes  \n",
              "\n",
              "[5 rows x 22 columns]"
            ],
            "text/html": [
              "\n",
              "  <div id=\"df-f5448d03-bf7e-46b7-9afe-4509069fb52c\" class=\"colab-df-container\">\n",
              "    <div>\n",
              "<style scoped>\n",
              "    .dataframe tbody tr th:only-of-type {\n",
              "        vertical-align: middle;\n",
              "    }\n",
              "\n",
              "    .dataframe tbody tr th {\n",
              "        vertical-align: top;\n",
              "    }\n",
              "\n",
              "    .dataframe thead th {\n",
              "        text-align: right;\n",
              "    }\n",
              "</style>\n",
              "<table border=\"1\" class=\"dataframe\">\n",
              "  <thead>\n",
              "    <tr style=\"text-align: right;\">\n",
              "      <th></th>\n",
              "      <th>Date</th>\n",
              "      <th>MinTemp</th>\n",
              "      <th>MaxTemp</th>\n",
              "      <th>Rainfall</th>\n",
              "      <th>Evaporation</th>\n",
              "      <th>Sunshine</th>\n",
              "      <th>WindGustDir</th>\n",
              "      <th>WindGustSpeed</th>\n",
              "      <th>WindDir9am</th>\n",
              "      <th>WindDir3pm</th>\n",
              "      <th>...</th>\n",
              "      <th>Humidity9am</th>\n",
              "      <th>Humidity3pm</th>\n",
              "      <th>Pressure9am</th>\n",
              "      <th>Pressure3pm</th>\n",
              "      <th>Cloud9am</th>\n",
              "      <th>Cloud3pm</th>\n",
              "      <th>Temp9am</th>\n",
              "      <th>Temp3pm</th>\n",
              "      <th>RainToday</th>\n",
              "      <th>RainTomorrow</th>\n",
              "    </tr>\n",
              "  </thead>\n",
              "  <tbody>\n",
              "    <tr>\n",
              "      <th>0</th>\n",
              "      <td>2/1/2008</td>\n",
              "      <td>19.5</td>\n",
              "      <td>22.4</td>\n",
              "      <td>15.6</td>\n",
              "      <td>6.2</td>\n",
              "      <td>0.0</td>\n",
              "      <td>W</td>\n",
              "      <td>41</td>\n",
              "      <td>S</td>\n",
              "      <td>SSW</td>\n",
              "      <td>...</td>\n",
              "      <td>92</td>\n",
              "      <td>84</td>\n",
              "      <td>1017.6</td>\n",
              "      <td>1017.4</td>\n",
              "      <td>8</td>\n",
              "      <td>8</td>\n",
              "      <td>20.7</td>\n",
              "      <td>20.9</td>\n",
              "      <td>Yes</td>\n",
              "      <td>Yes</td>\n",
              "    </tr>\n",
              "    <tr>\n",
              "      <th>1</th>\n",
              "      <td>2/2/2008</td>\n",
              "      <td>19.5</td>\n",
              "      <td>25.6</td>\n",
              "      <td>6.0</td>\n",
              "      <td>3.4</td>\n",
              "      <td>2.7</td>\n",
              "      <td>W</td>\n",
              "      <td>41</td>\n",
              "      <td>W</td>\n",
              "      <td>E</td>\n",
              "      <td>...</td>\n",
              "      <td>83</td>\n",
              "      <td>73</td>\n",
              "      <td>1017.9</td>\n",
              "      <td>1016.4</td>\n",
              "      <td>7</td>\n",
              "      <td>7</td>\n",
              "      <td>22.4</td>\n",
              "      <td>24.8</td>\n",
              "      <td>Yes</td>\n",
              "      <td>Yes</td>\n",
              "    </tr>\n",
              "    <tr>\n",
              "      <th>2</th>\n",
              "      <td>2/3/2008</td>\n",
              "      <td>21.6</td>\n",
              "      <td>24.5</td>\n",
              "      <td>6.6</td>\n",
              "      <td>2.4</td>\n",
              "      <td>0.1</td>\n",
              "      <td>W</td>\n",
              "      <td>41</td>\n",
              "      <td>ESE</td>\n",
              "      <td>ESE</td>\n",
              "      <td>...</td>\n",
              "      <td>88</td>\n",
              "      <td>86</td>\n",
              "      <td>1016.7</td>\n",
              "      <td>1015.6</td>\n",
              "      <td>7</td>\n",
              "      <td>8</td>\n",
              "      <td>23.5</td>\n",
              "      <td>23.0</td>\n",
              "      <td>Yes</td>\n",
              "      <td>Yes</td>\n",
              "    </tr>\n",
              "    <tr>\n",
              "      <th>3</th>\n",
              "      <td>2/4/2008</td>\n",
              "      <td>20.2</td>\n",
              "      <td>22.8</td>\n",
              "      <td>18.8</td>\n",
              "      <td>2.2</td>\n",
              "      <td>0.0</td>\n",
              "      <td>W</td>\n",
              "      <td>41</td>\n",
              "      <td>NNE</td>\n",
              "      <td>E</td>\n",
              "      <td>...</td>\n",
              "      <td>83</td>\n",
              "      <td>90</td>\n",
              "      <td>1014.2</td>\n",
              "      <td>1011.8</td>\n",
              "      <td>8</td>\n",
              "      <td>8</td>\n",
              "      <td>21.4</td>\n",
              "      <td>20.9</td>\n",
              "      <td>Yes</td>\n",
              "      <td>Yes</td>\n",
              "    </tr>\n",
              "    <tr>\n",
              "      <th>4</th>\n",
              "      <td>2/5/2008</td>\n",
              "      <td>19.7</td>\n",
              "      <td>25.7</td>\n",
              "      <td>77.4</td>\n",
              "      <td>4.8</td>\n",
              "      <td>0.0</td>\n",
              "      <td>W</td>\n",
              "      <td>41</td>\n",
              "      <td>NNE</td>\n",
              "      <td>W</td>\n",
              "      <td>...</td>\n",
              "      <td>88</td>\n",
              "      <td>74</td>\n",
              "      <td>1008.3</td>\n",
              "      <td>1004.8</td>\n",
              "      <td>8</td>\n",
              "      <td>8</td>\n",
              "      <td>22.5</td>\n",
              "      <td>25.5</td>\n",
              "      <td>Yes</td>\n",
              "      <td>Yes</td>\n",
              "    </tr>\n",
              "  </tbody>\n",
              "</table>\n",
              "<p>5 rows × 22 columns</p>\n",
              "</div>\n",
              "    <div class=\"colab-df-buttons\">\n",
              "\n",
              "  <div class=\"colab-df-container\">\n",
              "    <button class=\"colab-df-convert\" onclick=\"convertToInteractive('df-f5448d03-bf7e-46b7-9afe-4509069fb52c')\"\n",
              "            title=\"Convert this dataframe to an interactive table.\"\n",
              "            style=\"display:none;\">\n",
              "\n",
              "  <svg xmlns=\"http://www.w3.org/2000/svg\" height=\"24px\" viewBox=\"0 -960 960 960\">\n",
              "    <path d=\"M120-120v-720h720v720H120Zm60-500h600v-160H180v160Zm220 220h160v-160H400v160Zm0 220h160v-160H400v160ZM180-400h160v-160H180v160Zm440 0h160v-160H620v160ZM180-180h160v-160H180v160Zm440 0h160v-160H620v160Z\"/>\n",
              "  </svg>\n",
              "    </button>\n",
              "\n",
              "  <style>\n",
              "    .colab-df-container {\n",
              "      display:flex;\n",
              "      gap: 12px;\n",
              "    }\n",
              "\n",
              "    .colab-df-convert {\n",
              "      background-color: #E8F0FE;\n",
              "      border: none;\n",
              "      border-radius: 50%;\n",
              "      cursor: pointer;\n",
              "      display: none;\n",
              "      fill: #1967D2;\n",
              "      height: 32px;\n",
              "      padding: 0 0 0 0;\n",
              "      width: 32px;\n",
              "    }\n",
              "\n",
              "    .colab-df-convert:hover {\n",
              "      background-color: #E2EBFA;\n",
              "      box-shadow: 0px 1px 2px rgba(60, 64, 67, 0.3), 0px 1px 3px 1px rgba(60, 64, 67, 0.15);\n",
              "      fill: #174EA6;\n",
              "    }\n",
              "\n",
              "    .colab-df-buttons div {\n",
              "      margin-bottom: 4px;\n",
              "    }\n",
              "\n",
              "    [theme=dark] .colab-df-convert {\n",
              "      background-color: #3B4455;\n",
              "      fill: #D2E3FC;\n",
              "    }\n",
              "\n",
              "    [theme=dark] .colab-df-convert:hover {\n",
              "      background-color: #434B5C;\n",
              "      box-shadow: 0px 1px 3px 1px rgba(0, 0, 0, 0.15);\n",
              "      filter: drop-shadow(0px 1px 2px rgba(0, 0, 0, 0.3));\n",
              "      fill: #FFFFFF;\n",
              "    }\n",
              "  </style>\n",
              "\n",
              "    <script>\n",
              "      const buttonEl =\n",
              "        document.querySelector('#df-f5448d03-bf7e-46b7-9afe-4509069fb52c button.colab-df-convert');\n",
              "      buttonEl.style.display =\n",
              "        google.colab.kernel.accessAllowed ? 'block' : 'none';\n",
              "\n",
              "      async function convertToInteractive(key) {\n",
              "        const element = document.querySelector('#df-f5448d03-bf7e-46b7-9afe-4509069fb52c');\n",
              "        const dataTable =\n",
              "          await google.colab.kernel.invokeFunction('convertToInteractive',\n",
              "                                                    [key], {});\n",
              "        if (!dataTable) return;\n",
              "\n",
              "        const docLinkHtml = 'Like what you see? Visit the ' +\n",
              "          '<a target=\"_blank\" href=https://colab.research.google.com/notebooks/data_table.ipynb>data table notebook</a>'\n",
              "          + ' to learn more about interactive tables.';\n",
              "        element.innerHTML = '';\n",
              "        dataTable['output_type'] = 'display_data';\n",
              "        await google.colab.output.renderOutput(dataTable, element);\n",
              "        const docLink = document.createElement('div');\n",
              "        docLink.innerHTML = docLinkHtml;\n",
              "        element.appendChild(docLink);\n",
              "      }\n",
              "    </script>\n",
              "  </div>\n",
              "\n",
              "\n",
              "<div id=\"df-d66606db-0212-48f5-9f89-68231aa9c555\">\n",
              "  <button class=\"colab-df-quickchart\" onclick=\"quickchart('df-d66606db-0212-48f5-9f89-68231aa9c555')\"\n",
              "            title=\"Suggest charts\"\n",
              "            style=\"display:none;\">\n",
              "\n",
              "<svg xmlns=\"http://www.w3.org/2000/svg\" height=\"24px\"viewBox=\"0 0 24 24\"\n",
              "     width=\"24px\">\n",
              "    <g>\n",
              "        <path d=\"M19 3H5c-1.1 0-2 .9-2 2v14c0 1.1.9 2 2 2h14c1.1 0 2-.9 2-2V5c0-1.1-.9-2-2-2zM9 17H7v-7h2v7zm4 0h-2V7h2v10zm4 0h-2v-4h2v4z\"/>\n",
              "    </g>\n",
              "</svg>\n",
              "  </button>\n",
              "\n",
              "<style>\n",
              "  .colab-df-quickchart {\n",
              "      --bg-color: #E8F0FE;\n",
              "      --fill-color: #1967D2;\n",
              "      --hover-bg-color: #E2EBFA;\n",
              "      --hover-fill-color: #174EA6;\n",
              "      --disabled-fill-color: #AAA;\n",
              "      --disabled-bg-color: #DDD;\n",
              "  }\n",
              "\n",
              "  [theme=dark] .colab-df-quickchart {\n",
              "      --bg-color: #3B4455;\n",
              "      --fill-color: #D2E3FC;\n",
              "      --hover-bg-color: #434B5C;\n",
              "      --hover-fill-color: #FFFFFF;\n",
              "      --disabled-bg-color: #3B4455;\n",
              "      --disabled-fill-color: #666;\n",
              "  }\n",
              "\n",
              "  .colab-df-quickchart {\n",
              "    background-color: var(--bg-color);\n",
              "    border: none;\n",
              "    border-radius: 50%;\n",
              "    cursor: pointer;\n",
              "    display: none;\n",
              "    fill: var(--fill-color);\n",
              "    height: 32px;\n",
              "    padding: 0;\n",
              "    width: 32px;\n",
              "  }\n",
              "\n",
              "  .colab-df-quickchart:hover {\n",
              "    background-color: var(--hover-bg-color);\n",
              "    box-shadow: 0 1px 2px rgba(60, 64, 67, 0.3), 0 1px 3px 1px rgba(60, 64, 67, 0.15);\n",
              "    fill: var(--button-hover-fill-color);\n",
              "  }\n",
              "\n",
              "  .colab-df-quickchart-complete:disabled,\n",
              "  .colab-df-quickchart-complete:disabled:hover {\n",
              "    background-color: var(--disabled-bg-color);\n",
              "    fill: var(--disabled-fill-color);\n",
              "    box-shadow: none;\n",
              "  }\n",
              "\n",
              "  .colab-df-spinner {\n",
              "    border: 2px solid var(--fill-color);\n",
              "    border-color: transparent;\n",
              "    border-bottom-color: var(--fill-color);\n",
              "    animation:\n",
              "      spin 1s steps(1) infinite;\n",
              "  }\n",
              "\n",
              "  @keyframes spin {\n",
              "    0% {\n",
              "      border-color: transparent;\n",
              "      border-bottom-color: var(--fill-color);\n",
              "      border-left-color: var(--fill-color);\n",
              "    }\n",
              "    20% {\n",
              "      border-color: transparent;\n",
              "      border-left-color: var(--fill-color);\n",
              "      border-top-color: var(--fill-color);\n",
              "    }\n",
              "    30% {\n",
              "      border-color: transparent;\n",
              "      border-left-color: var(--fill-color);\n",
              "      border-top-color: var(--fill-color);\n",
              "      border-right-color: var(--fill-color);\n",
              "    }\n",
              "    40% {\n",
              "      border-color: transparent;\n",
              "      border-right-color: var(--fill-color);\n",
              "      border-top-color: var(--fill-color);\n",
              "    }\n",
              "    60% {\n",
              "      border-color: transparent;\n",
              "      border-right-color: var(--fill-color);\n",
              "    }\n",
              "    80% {\n",
              "      border-color: transparent;\n",
              "      border-right-color: var(--fill-color);\n",
              "      border-bottom-color: var(--fill-color);\n",
              "    }\n",
              "    90% {\n",
              "      border-color: transparent;\n",
              "      border-bottom-color: var(--fill-color);\n",
              "    }\n",
              "  }\n",
              "</style>\n",
              "\n",
              "  <script>\n",
              "    async function quickchart(key) {\n",
              "      const quickchartButtonEl =\n",
              "        document.querySelector('#' + key + ' button');\n",
              "      quickchartButtonEl.disabled = true;  // To prevent multiple clicks.\n",
              "      quickchartButtonEl.classList.add('colab-df-spinner');\n",
              "      try {\n",
              "        const charts = await google.colab.kernel.invokeFunction(\n",
              "            'suggestCharts', [key], {});\n",
              "      } catch (error) {\n",
              "        console.error('Error during call to suggestCharts:', error);\n",
              "      }\n",
              "      quickchartButtonEl.classList.remove('colab-df-spinner');\n",
              "      quickchartButtonEl.classList.add('colab-df-quickchart-complete');\n",
              "    }\n",
              "    (() => {\n",
              "      let quickchartButtonEl =\n",
              "        document.querySelector('#df-d66606db-0212-48f5-9f89-68231aa9c555 button');\n",
              "      quickchartButtonEl.style.display =\n",
              "        google.colab.kernel.accessAllowed ? 'block' : 'none';\n",
              "    })();\n",
              "  </script>\n",
              "</div>\n",
              "    </div>\n",
              "  </div>\n"
            ]
          },
          "metadata": {},
          "execution_count": 2
        }
      ],
      "source": [
        "df = pd.read_csv('https://cf-courses-data.s3.us.cloud-object-storage.appdomain.cloud/IBMDeveloperSkillsNetwork-ML0101EN-SkillUp/labs/ML-FinalAssignment/Weather_Data.csv')\n",
        "df.head()"
      ]
    },
    {
      "cell_type": "markdown",
      "id": "454456f9",
      "metadata": {
        "papermill": {
          "duration": 0.010972,
          "end_time": "2022-12-27T06:47:40.923247",
          "exception": false,
          "start_time": "2022-12-27T06:47:40.912275",
          "status": "completed"
        },
        "tags": [],
        "id": "454456f9"
      },
      "source": [
        "## Data Preprocessing\n",
        "### One Hot Encoding\n",
        "First, we need to perform one hot encoding to convert categorical variables to binary variables."
      ]
    },
    {
      "cell_type": "code",
      "execution_count": 3,
      "id": "2cf59a6a",
      "metadata": {
        "execution": {
          "iopub.execute_input": "2022-12-27T06:47:40.948087Z",
          "iopub.status.busy": "2022-12-27T06:47:40.947617Z",
          "iopub.status.idle": "2022-12-27T06:47:40.969487Z",
          "shell.execute_reply": "2022-12-27T06:47:40.968008Z"
        },
        "papermill": {
          "duration": 0.037613,
          "end_time": "2022-12-27T06:47:40.972201",
          "exception": false,
          "start_time": "2022-12-27T06:47:40.934588",
          "status": "completed"
        },
        "tags": [],
        "id": "2cf59a6a"
      },
      "outputs": [],
      "source": [
        "df_sydney_processed = pd.get_dummies(data=df, columns=['RainToday', 'WindGustDir', 'WindDir9am', 'WindDir3pm'])"
      ]
    },
    {
      "cell_type": "markdown",
      "id": "dab19316",
      "metadata": {
        "papermill": {
          "duration": 0.011172,
          "end_time": "2022-12-27T06:47:40.994568",
          "exception": false,
          "start_time": "2022-12-27T06:47:40.983396",
          "status": "completed"
        },
        "tags": [],
        "id": "dab19316"
      },
      "source": [
        "Next, we replace the values of the 'RainTomorrow' column changing them from a categorical column to a binary column. We do not use the get_dummies method because we would end up with two columns for 'RainTomorrow' and we do not want, since 'RainTomorrow' is our target."
      ]
    },
    {
      "cell_type": "code",
      "execution_count": 4,
      "id": "ec9d2a78",
      "metadata": {
        "execution": {
          "iopub.execute_input": "2022-12-27T06:47:41.021898Z",
          "iopub.status.busy": "2022-12-27T06:47:41.021078Z",
          "iopub.status.idle": "2022-12-27T06:47:41.031029Z",
          "shell.execute_reply": "2022-12-27T06:47:41.029328Z"
        },
        "papermill": {
          "duration": 0.027987,
          "end_time": "2022-12-27T06:47:41.033837",
          "exception": false,
          "start_time": "2022-12-27T06:47:41.005850",
          "status": "completed"
        },
        "tags": [],
        "id": "ec9d2a78"
      },
      "outputs": [],
      "source": [
        "df_sydney_processed.replace(['No', 'Yes'], [0,1], inplace=True)"
      ]
    },
    {
      "cell_type": "markdown",
      "id": "2954c8c4",
      "metadata": {
        "papermill": {
          "duration": 0.010937,
          "end_time": "2022-12-27T06:47:41.056824",
          "exception": false,
          "start_time": "2022-12-27T06:47:41.045887",
          "status": "completed"
        },
        "tags": [],
        "id": "2954c8c4"
      },
      "source": [
        "# Training Data and Test Data\n",
        "Now, we set our 'features' or x values and our Y or target variable."
      ]
    },
    {
      "cell_type": "code",
      "execution_count": 5,
      "id": "cdfc1bb0",
      "metadata": {
        "execution": {
          "iopub.execute_input": "2022-12-27T06:47:41.082381Z",
          "iopub.status.busy": "2022-12-27T06:47:41.081898Z",
          "iopub.status.idle": "2022-12-27T06:47:41.089748Z",
          "shell.execute_reply": "2022-12-27T06:47:41.088429Z"
        },
        "papermill": {
          "duration": 0.024131,
          "end_time": "2022-12-27T06:47:41.092562",
          "exception": false,
          "start_time": "2022-12-27T06:47:41.068431",
          "status": "completed"
        },
        "tags": [],
        "id": "cdfc1bb0"
      },
      "outputs": [],
      "source": [
        "df_sydney_processed.drop('Date',axis=1,inplace=True)"
      ]
    },
    {
      "cell_type": "code",
      "execution_count": 6,
      "id": "a80f24dd",
      "metadata": {
        "execution": {
          "iopub.execute_input": "2022-12-27T06:47:41.117661Z",
          "iopub.status.busy": "2022-12-27T06:47:41.117237Z",
          "iopub.status.idle": "2022-12-27T06:47:41.124323Z",
          "shell.execute_reply": "2022-12-27T06:47:41.123286Z"
        },
        "papermill": {
          "duration": 0.022385,
          "end_time": "2022-12-27T06:47:41.126690",
          "exception": false,
          "start_time": "2022-12-27T06:47:41.104305",
          "status": "completed"
        },
        "tags": [],
        "id": "a80f24dd"
      },
      "outputs": [],
      "source": [
        "df_sydney_processed = df_sydney_processed.astype(float)"
      ]
    },
    {
      "cell_type": "code",
      "execution_count": 7,
      "id": "649f7a0b",
      "metadata": {
        "execution": {
          "iopub.execute_input": "2022-12-27T06:47:41.151501Z",
          "iopub.status.busy": "2022-12-27T06:47:41.150230Z",
          "iopub.status.idle": "2022-12-27T06:47:41.161529Z",
          "shell.execute_reply": "2022-12-27T06:47:41.160125Z"
        },
        "papermill": {
          "duration": 0.026463,
          "end_time": "2022-12-27T06:47:41.164305",
          "exception": false,
          "start_time": "2022-12-27T06:47:41.137842",
          "status": "completed"
        },
        "tags": [],
        "id": "649f7a0b"
      },
      "outputs": [],
      "source": [
        "features = df_sydney_processed.drop(columns='RainTomorrow', axis=1)\n",
        "Y = df_sydney_processed['RainTomorrow']"
      ]
    },
    {
      "cell_type": "markdown",
      "id": "013be050",
      "metadata": {
        "papermill": {
          "duration": 0.011673,
          "end_time": "2022-12-27T06:47:41.187774",
          "exception": false,
          "start_time": "2022-12-27T06:47:41.176101",
          "status": "completed"
        },
        "tags": [],
        "id": "013be050"
      },
      "source": [
        "# Linear Regression\n",
        "### Q1) Use the train_test_split function to split the features and Y dataframes with a test_size of 0.2 and the random_state set to 10."
      ]
    },
    {
      "cell_type": "code",
      "execution_count": 8,
      "id": "f314a175",
      "metadata": {
        "execution": {
          "iopub.execute_input": "2022-12-27T06:47:41.214018Z",
          "iopub.status.busy": "2022-12-27T06:47:41.213510Z",
          "iopub.status.idle": "2022-12-27T06:47:41.227399Z",
          "shell.execute_reply": "2022-12-27T06:47:41.225831Z"
        },
        "papermill": {
          "duration": 0.029835,
          "end_time": "2022-12-27T06:47:41.230183",
          "exception": false,
          "start_time": "2022-12-27T06:47:41.200348",
          "status": "completed"
        },
        "tags": [],
        "colab": {
          "base_uri": "https://localhost:8080/"
        },
        "id": "f314a175",
        "outputId": "8ef1055d-87e4-4c33-9e96-78625a80e466"
      },
      "outputs": [
        {
          "output_type": "stream",
          "name": "stdout",
          "text": [
            "Train set: (2616, 66) (2616,)\n",
            "Test set: (655, 66) (655,)\n"
          ]
        }
      ],
      "source": [
        "#Enter Your Code, Execute and take the Screenshot\n",
        "\n",
        "x_train, x_test, y_train, y_test = train_test_split( features,Y, test_size=0.2, random_state=10)\n",
        "print ('Train set:', x_train.shape,  y_train.shape)\n",
        "print ('Test set:', x_test.shape,  y_test.shape)"
      ]
    },
    {
      "cell_type": "markdown",
      "id": "4e9589a0",
      "metadata": {
        "papermill": {
          "duration": 0.010846,
          "end_time": "2022-12-27T06:47:41.252842",
          "exception": false,
          "start_time": "2022-12-27T06:47:41.241996",
          "status": "completed"
        },
        "tags": [],
        "id": "4e9589a0"
      },
      "source": [
        "### Q2) Create and train a Linear Regression model called LinearReg using the training data (x_train, y_train)."
      ]
    },
    {
      "cell_type": "code",
      "execution_count": 9,
      "id": "102687a6",
      "metadata": {
        "execution": {
          "iopub.execute_input": "2022-12-27T06:47:41.277118Z",
          "iopub.status.busy": "2022-12-27T06:47:41.276620Z",
          "iopub.status.idle": "2022-12-27T06:47:41.318100Z",
          "shell.execute_reply": "2022-12-27T06:47:41.316341Z"
        },
        "papermill": {
          "duration": 0.058991,
          "end_time": "2022-12-27T06:47:41.323104",
          "exception": false,
          "start_time": "2022-12-27T06:47:41.264113",
          "status": "completed"
        },
        "tags": [],
        "colab": {
          "base_uri": "https://localhost:8080/"
        },
        "id": "102687a6",
        "outputId": "e9276794-a7ab-40b2-867c-920594d3eccd"
      },
      "outputs": [
        {
          "output_type": "stream",
          "name": "stdout",
          "text": [
            "Coefficients:  [-2.36934040e-02  1.29995560e-02  7.29625159e-04  6.48758392e-03\n",
            " -3.51687983e-02  4.23655223e-03  1.83079049e-03  7.89537750e-04\n",
            "  9.55405652e-04  8.56305789e-03  7.71427992e-03 -9.25247903e-03\n",
            " -8.86171626e-03  1.00332952e-02  1.44743785e-02 -3.48417548e-03\n",
            " -5.05116631e+10 -5.05116631e+10 -1.09342204e+10 -1.09342204e+10\n",
            " -1.09342204e+10 -1.09342204e+10 -1.09342204e+10 -1.09342204e+10\n",
            " -1.09342204e+10 -1.09342204e+10 -1.09342204e+10 -1.09342204e+10\n",
            " -1.09342204e+10 -1.09342204e+10 -1.09342204e+10 -1.09342204e+10\n",
            " -1.09342204e+10 -1.09342204e+10 -2.79026559e+09 -2.79026559e+09\n",
            " -2.79026559e+09 -2.79026559e+09 -2.79026559e+09 -2.79026559e+09\n",
            " -2.79026559e+09 -2.79026559e+09 -2.79026559e+09 -2.79026559e+09\n",
            " -2.79026559e+09 -2.79026559e+09 -2.79026559e+09 -2.79026559e+09\n",
            " -2.79026559e+09 -2.79026559e+09 -5.02087788e+09 -5.02087788e+09\n",
            " -5.02087788e+09 -5.02087788e+09 -5.02087788e+09 -5.02087788e+09\n",
            " -5.02087788e+09 -5.02087788e+09 -5.02087788e+09 -5.02087788e+09\n",
            " -5.02087788e+09 -5.02087788e+09 -5.02087788e+09 -5.02087788e+09\n",
            " -5.02087788e+09 -5.02087788e+09]\n"
          ]
        }
      ],
      "source": [
        "#Enter Your Code, Execute and take the Screenshot\n",
        "\n",
        "LinearReg = LinearRegression()\n",
        "x = np.asanyarray(x_train)\n",
        "y = np.asanyarray(y_train)\n",
        "LinearReg.fit (x, y)\n",
        "# The coefficients\n",
        "print ('Coefficients: ', LinearReg.coef_)"
      ]
    },
    {
      "cell_type": "markdown",
      "id": "6e25790b",
      "metadata": {
        "papermill": {
          "duration": 0.029796,
          "end_time": "2022-12-27T06:47:41.382776",
          "exception": false,
          "start_time": "2022-12-27T06:47:41.352980",
          "status": "completed"
        },
        "tags": [],
        "id": "6e25790b"
      },
      "source": [
        "### Q3) Now use the predict method on the testing data (x_test) and save it to the array predictions"
      ]
    },
    {
      "cell_type": "code",
      "execution_count": 10,
      "id": "ad02ec50",
      "metadata": {
        "execution": {
          "iopub.execute_input": "2022-12-27T06:47:41.438344Z",
          "iopub.status.busy": "2022-12-27T06:47:41.437907Z",
          "iopub.status.idle": "2022-12-27T06:47:41.456488Z",
          "shell.execute_reply": "2022-12-27T06:47:41.454813Z"
        },
        "papermill": {
          "duration": 0.050777,
          "end_time": "2022-12-27T06:47:41.463553",
          "exception": false,
          "start_time": "2022-12-27T06:47:41.412776",
          "status": "completed"
        },
        "tags": [],
        "colab": {
          "base_uri": "https://localhost:8080/"
        },
        "id": "ad02ec50",
        "outputId": "0a922935-71a9-41c3-ed7c-bc855b33e5fa"
      },
      "outputs": [
        {
          "output_type": "stream",
          "name": "stdout",
          "text": [
            "Residual sum of squares: 0.12\n",
            "Variance score: 0.43\n"
          ]
        },
        {
          "output_type": "stream",
          "name": "stderr",
          "text": [
            "/usr/local/lib/python3.10/dist-packages/sklearn/base.py:432: UserWarning: X has feature names, but LinearRegression was fitted without feature names\n",
            "  warnings.warn(\n"
          ]
        }
      ],
      "source": [
        "#Enter Your Code, Execute and take the Screenshot\n",
        "predictions = LinearReg.predict(x_test)\n",
        "x = np.asanyarray(x_test)\n",
        "y = np.asanyarray(y_test)\n",
        "print(\"Residual sum of squares: %.2f\"\n",
        "      % np.mean((predictions - y) ** 2))\n",
        "\n",
        "# Explained variance score: 1 is perfect prediction\n",
        "print('Variance score: %.2f' % LinearReg.score(x, y))"
      ]
    },
    {
      "cell_type": "markdown",
      "id": "f199df3e",
      "metadata": {
        "papermill": {
          "duration": 0.030455,
          "end_time": "2022-12-27T06:47:41.525945",
          "exception": false,
          "start_time": "2022-12-27T06:47:41.495490",
          "status": "completed"
        },
        "tags": [],
        "id": "f199df3e"
      },
      "source": [
        "### Q4) Using the predictions and the y_test dataframe calculate the value for each metric using the appropriate function."
      ]
    },
    {
      "cell_type": "code",
      "execution_count": 11,
      "id": "1d5cda89",
      "metadata": {
        "execution": {
          "iopub.execute_input": "2022-12-27T06:47:41.580142Z",
          "iopub.status.busy": "2022-12-27T06:47:41.579703Z",
          "iopub.status.idle": "2022-12-27T06:47:41.590234Z",
          "shell.execute_reply": "2022-12-27T06:47:41.588939Z"
        },
        "papermill": {
          "duration": 0.036355,
          "end_time": "2022-12-27T06:47:41.593198",
          "exception": false,
          "start_time": "2022-12-27T06:47:41.556843",
          "status": "completed"
        },
        "tags": [],
        "colab": {
          "base_uri": "https://localhost:8080/"
        },
        "id": "1d5cda89",
        "outputId": "97a7847a-3fac-4cee-e829-eefe92a3e1e0"
      },
      "outputs": [
        {
          "output_type": "stream",
          "name": "stdout",
          "text": [
            "Mean absolute error: 0.26\n",
            "Residual sum of squares (MSE): 0.12\n",
            "R2-score: 0.43\n"
          ]
        }
      ],
      "source": [
        "from sklearn.metrics import r2_score\n",
        "LinearRegression_MAE = np.mean(np.absolute(predictions - y_test))\n",
        "LinearRegression_MSE = np.mean((predictions -y_test)**2)\n",
        "LinearRegression_R2 = r2_score(y_test, predictions)\n",
        "print(\"Mean absolute error: %.2f\" % LinearRegression_MAE)\n",
        "print(\"Residual sum of squares (MSE): %.2f\" % LinearRegression_MSE)\n",
        "print(\"R2-score: %.2f\" % LinearRegression_R2 )"
      ]
    },
    {
      "cell_type": "markdown",
      "id": "2d6b58f1",
      "metadata": {
        "papermill": {
          "duration": 0.011305,
          "end_time": "2022-12-27T06:47:41.616082",
          "exception": false,
          "start_time": "2022-12-27T06:47:41.604777",
          "status": "completed"
        },
        "tags": [],
        "id": "2d6b58f1"
      },
      "source": [
        "### Q5) Show the MAE, MSE, and R2 in a tabular format using data frame for the linear model."
      ]
    },
    {
      "cell_type": "code",
      "execution_count": 12,
      "id": "44161add",
      "metadata": {
        "execution": {
          "iopub.execute_input": "2022-12-27T06:47:41.641267Z",
          "iopub.status.busy": "2022-12-27T06:47:41.640813Z",
          "iopub.status.idle": "2022-12-27T06:47:41.646609Z",
          "shell.execute_reply": "2022-12-27T06:47:41.645453Z"
        },
        "papermill": {
          "duration": 0.021449,
          "end_time": "2022-12-27T06:47:41.649156",
          "exception": false,
          "start_time": "2022-12-27T06:47:41.627707",
          "status": "completed"
        },
        "tags": [],
        "id": "44161add"
      },
      "outputs": [],
      "source": [
        "#Enter Your Code, Execute and take the Screenshot\n",
        "dict = {'error_type':['LinearRegression_MAE','LinearRegression_MSE','LinearRegression_R2'],\n",
        "\n",
        "        'value':[LinearRegression_MAE,LinearRegression_MSE,LinearRegression_R2]}"
      ]
    },
    {
      "cell_type": "code",
      "execution_count": 13,
      "id": "40aab324",
      "metadata": {
        "execution": {
          "iopub.execute_input": "2022-12-27T06:47:41.674507Z",
          "iopub.status.busy": "2022-12-27T06:47:41.674081Z",
          "iopub.status.idle": "2022-12-27T06:47:41.691178Z",
          "shell.execute_reply": "2022-12-27T06:47:41.689553Z"
        },
        "papermill": {
          "duration": 0.033199,
          "end_time": "2022-12-27T06:47:41.693888",
          "exception": false,
          "start_time": "2022-12-27T06:47:41.660689",
          "status": "completed"
        },
        "tags": [],
        "colab": {
          "base_uri": "https://localhost:8080/"
        },
        "id": "40aab324",
        "outputId": "36406da6-5608-4491-e904-ca5f915743f1"
      },
      "outputs": [
        {
          "output_type": "stream",
          "name": "stdout",
          "text": [
            "+----+----------------------+----------+\n",
            "|    | error_type           |    value |\n",
            "|----+----------------------+----------|\n",
            "|  0 | LinearRegression_MAE | 0.256309 |\n",
            "|  1 | LinearRegression_MSE | 0.115719 |\n",
            "|  2 | LinearRegression_R2  | 0.427138 |\n",
            "+----+----------------------+----------+\n"
          ]
        }
      ],
      "source": [
        "from tabulate import tabulate\n",
        "Report = pd.DataFrame(dict)\n",
        "print(tabulate(Report, headers = 'keys', tablefmt = 'psql'))"
      ]
    },
    {
      "cell_type": "markdown",
      "id": "62a1837d",
      "metadata": {
        "papermill": {
          "duration": 0.011044,
          "end_time": "2022-12-27T06:47:41.716435",
          "exception": false,
          "start_time": "2022-12-27T06:47:41.705391",
          "status": "completed"
        },
        "tags": [],
        "id": "62a1837d"
      },
      "source": [
        "# KNN\n",
        "### Q6) Create and train a KNN model called KNN using the training data (x_train, y_train) with the n_neighbors parameter set to 4."
      ]
    },
    {
      "cell_type": "code",
      "execution_count": 14,
      "id": "1f4c1e80",
      "metadata": {
        "execution": {
          "iopub.execute_input": "2022-12-27T06:47:41.741005Z",
          "iopub.status.busy": "2022-12-27T06:47:41.740525Z",
          "iopub.status.idle": "2022-12-27T06:47:41.755281Z",
          "shell.execute_reply": "2022-12-27T06:47:41.753816Z"
        },
        "papermill": {
          "duration": 0.030386,
          "end_time": "2022-12-27T06:47:41.758142",
          "exception": false,
          "start_time": "2022-12-27T06:47:41.727756",
          "status": "completed"
        },
        "tags": [],
        "colab": {
          "base_uri": "https://localhost:8080/",
          "height": 74
        },
        "id": "1f4c1e80",
        "outputId": "56af4cfa-87bb-4fdd-9894-a238a5ac8e94"
      },
      "outputs": [
        {
          "output_type": "execute_result",
          "data": {
            "text/plain": [
              "KNeighborsClassifier(n_neighbors=4)"
            ],
            "text/html": [
              "<style>#sk-container-id-1 {color: black;background-color: white;}#sk-container-id-1 pre{padding: 0;}#sk-container-id-1 div.sk-toggleable {background-color: white;}#sk-container-id-1 label.sk-toggleable__label {cursor: pointer;display: block;width: 100%;margin-bottom: 0;padding: 0.3em;box-sizing: border-box;text-align: center;}#sk-container-id-1 label.sk-toggleable__label-arrow:before {content: \"▸\";float: left;margin-right: 0.25em;color: #696969;}#sk-container-id-1 label.sk-toggleable__label-arrow:hover:before {color: black;}#sk-container-id-1 div.sk-estimator:hover label.sk-toggleable__label-arrow:before {color: black;}#sk-container-id-1 div.sk-toggleable__content {max-height: 0;max-width: 0;overflow: hidden;text-align: left;background-color: #f0f8ff;}#sk-container-id-1 div.sk-toggleable__content pre {margin: 0.2em;color: black;border-radius: 0.25em;background-color: #f0f8ff;}#sk-container-id-1 input.sk-toggleable__control:checked~div.sk-toggleable__content {max-height: 200px;max-width: 100%;overflow: auto;}#sk-container-id-1 input.sk-toggleable__control:checked~label.sk-toggleable__label-arrow:before {content: \"▾\";}#sk-container-id-1 div.sk-estimator input.sk-toggleable__control:checked~label.sk-toggleable__label {background-color: #d4ebff;}#sk-container-id-1 div.sk-label input.sk-toggleable__control:checked~label.sk-toggleable__label {background-color: #d4ebff;}#sk-container-id-1 input.sk-hidden--visually {border: 0;clip: rect(1px 1px 1px 1px);clip: rect(1px, 1px, 1px, 1px);height: 1px;margin: -1px;overflow: hidden;padding: 0;position: absolute;width: 1px;}#sk-container-id-1 div.sk-estimator {font-family: monospace;background-color: #f0f8ff;border: 1px dotted black;border-radius: 0.25em;box-sizing: border-box;margin-bottom: 0.5em;}#sk-container-id-1 div.sk-estimator:hover {background-color: #d4ebff;}#sk-container-id-1 div.sk-parallel-item::after {content: \"\";width: 100%;border-bottom: 1px solid gray;flex-grow: 1;}#sk-container-id-1 div.sk-label:hover label.sk-toggleable__label {background-color: #d4ebff;}#sk-container-id-1 div.sk-serial::before {content: \"\";position: absolute;border-left: 1px solid gray;box-sizing: border-box;top: 0;bottom: 0;left: 50%;z-index: 0;}#sk-container-id-1 div.sk-serial {display: flex;flex-direction: column;align-items: center;background-color: white;padding-right: 0.2em;padding-left: 0.2em;position: relative;}#sk-container-id-1 div.sk-item {position: relative;z-index: 1;}#sk-container-id-1 div.sk-parallel {display: flex;align-items: stretch;justify-content: center;background-color: white;position: relative;}#sk-container-id-1 div.sk-item::before, #sk-container-id-1 div.sk-parallel-item::before {content: \"\";position: absolute;border-left: 1px solid gray;box-sizing: border-box;top: 0;bottom: 0;left: 50%;z-index: -1;}#sk-container-id-1 div.sk-parallel-item {display: flex;flex-direction: column;z-index: 1;position: relative;background-color: white;}#sk-container-id-1 div.sk-parallel-item:first-child::after {align-self: flex-end;width: 50%;}#sk-container-id-1 div.sk-parallel-item:last-child::after {align-self: flex-start;width: 50%;}#sk-container-id-1 div.sk-parallel-item:only-child::after {width: 0;}#sk-container-id-1 div.sk-dashed-wrapped {border: 1px dashed gray;margin: 0 0.4em 0.5em 0.4em;box-sizing: border-box;padding-bottom: 0.4em;background-color: white;}#sk-container-id-1 div.sk-label label {font-family: monospace;font-weight: bold;display: inline-block;line-height: 1.2em;}#sk-container-id-1 div.sk-label-container {text-align: center;}#sk-container-id-1 div.sk-container {/* jupyter's `normalize.less` sets `[hidden] { display: none; }` but bootstrap.min.css set `[hidden] { display: none !important; }` so we also need the `!important` here to be able to override the default hidden behavior on the sphinx rendered scikit-learn.org. See: https://github.com/scikit-learn/scikit-learn/issues/21755 */display: inline-block !important;position: relative;}#sk-container-id-1 div.sk-text-repr-fallback {display: none;}</style><div id=\"sk-container-id-1\" class=\"sk-top-container\"><div class=\"sk-text-repr-fallback\"><pre>KNeighborsClassifier(n_neighbors=4)</pre><b>In a Jupyter environment, please rerun this cell to show the HTML representation or trust the notebook. <br />On GitHub, the HTML representation is unable to render, please try loading this page with nbviewer.org.</b></div><div class=\"sk-container\" hidden><div class=\"sk-item\"><div class=\"sk-estimator sk-toggleable\"><input class=\"sk-toggleable__control sk-hidden--visually\" id=\"sk-estimator-id-1\" type=\"checkbox\" checked><label for=\"sk-estimator-id-1\" class=\"sk-toggleable__label sk-toggleable__label-arrow\">KNeighborsClassifier</label><div class=\"sk-toggleable__content\"><pre>KNeighborsClassifier(n_neighbors=4)</pre></div></div></div></div></div>"
            ]
          },
          "metadata": {},
          "execution_count": 14
        }
      ],
      "source": [
        "#Enter Your Code Below, Execute, and Save the Screenshot of the Final Output\n",
        "#Train Model\n",
        "k = 4\n",
        "neigh = KNeighborsClassifier(n_neighbors = k).fit(x_train,y_train)\n",
        "neigh"
      ]
    },
    {
      "cell_type": "markdown",
      "id": "cfc78cfc",
      "metadata": {
        "papermill": {
          "duration": 0.011276,
          "end_time": "2022-12-27T06:47:41.780980",
          "exception": false,
          "start_time": "2022-12-27T06:47:41.769704",
          "status": "completed"
        },
        "tags": [],
        "id": "cfc78cfc"
      },
      "source": [
        "### Q7) Now use the predict method on the testing data (x_test) and save it to the array predictions."
      ]
    },
    {
      "cell_type": "code",
      "execution_count": 15,
      "id": "b9100313",
      "metadata": {
        "execution": {
          "iopub.execute_input": "2022-12-27T06:47:41.806025Z",
          "iopub.status.busy": "2022-12-27T06:47:41.805530Z",
          "iopub.status.idle": "2022-12-27T06:47:41.940565Z",
          "shell.execute_reply": "2022-12-27T06:47:41.938853Z"
        },
        "papermill": {
          "duration": 0.152886,
          "end_time": "2022-12-27T06:47:41.945371",
          "exception": false,
          "start_time": "2022-12-27T06:47:41.792485",
          "status": "completed"
        },
        "tags": [],
        "colab": {
          "base_uri": "https://localhost:8080/"
        },
        "id": "b9100313",
        "outputId": "aa35e822-0180-4b29-a7a3-a00183eef364"
      },
      "outputs": [
        {
          "output_type": "execute_result",
          "data": {
            "text/plain": [
              "array([0., 0., 1., 0., 0.])"
            ]
          },
          "metadata": {},
          "execution_count": 15
        }
      ],
      "source": [
        "#Enter Your Code Below, Execute, and Save the Screenshot of the Final Output\n",
        "predictions = neigh.predict(x_test)\n",
        "predictions[0:5]"
      ]
    },
    {
      "cell_type": "markdown",
      "id": "79c205bd",
      "metadata": {
        "papermill": {
          "duration": 0.011448,
          "end_time": "2022-12-27T06:47:41.968980",
          "exception": false,
          "start_time": "2022-12-27T06:47:41.957532",
          "status": "completed"
        },
        "tags": [],
        "id": "79c205bd"
      },
      "source": [
        "### Q8) Using the predictions and the y_test dataframe calculate the value for each metric using the appropriate function."
      ]
    },
    {
      "cell_type": "code",
      "execution_count": 16,
      "id": "85074d8a",
      "metadata": {
        "execution": {
          "iopub.execute_input": "2022-12-27T06:47:41.996419Z",
          "iopub.status.busy": "2022-12-27T06:47:41.995289Z",
          "iopub.status.idle": "2022-12-27T06:47:42.010634Z",
          "shell.execute_reply": "2022-12-27T06:47:42.009024Z"
        },
        "papermill": {
          "duration": 0.031862,
          "end_time": "2022-12-27T06:47:42.013453",
          "exception": false,
          "start_time": "2022-12-27T06:47:41.981591",
          "status": "completed"
        },
        "tags": [],
        "colab": {
          "base_uri": "https://localhost:8080/"
        },
        "id": "85074d8a",
        "outputId": "0ab140ec-fc7e-4708-8f82-a0dd6a89ac73"
      },
      "outputs": [
        {
          "output_type": "stream",
          "name": "stdout",
          "text": [
            "KNN Accuracy Score:  0.8183206106870229\n",
            "KNN_JaccardIndex:  0.4251207729468599\n",
            "KNN F1 score :  0.5966101694915255\n",
            "KNN Log Loss :  6.548388936343421\n"
          ]
        }
      ],
      "source": [
        "#Enter Your Code Below, Execute, and Save the Screenshot of the Final Output\n",
        "KNN_Accuracy_Score = metrics.accuracy_score(y_test, predictions)\n",
        "KNN_JaccardIndex = metrics.jaccard_score(y_test, predictions)\n",
        "KNN_F1_Score = metrics.f1_score(y_test, predictions)\n",
        "KNN_Log_Loss = metrics.log_loss(y_test, predictions)\n",
        "print(\"KNN Accuracy Score: \",KNN_Accuracy_Score)\n",
        "print(\"KNN_JaccardIndex: \",KNN_JaccardIndex)\n",
        "print(\"KNN F1 score : \", KNN_F1_Score)\n",
        "print(\"KNN Log Loss : \", KNN_Log_Loss)"
      ]
    },
    {
      "cell_type": "markdown",
      "id": "b6364ea6",
      "metadata": {
        "papermill": {
          "duration": 0.012076,
          "end_time": "2022-12-27T06:47:42.038201",
          "exception": false,
          "start_time": "2022-12-27T06:47:42.026125",
          "status": "completed"
        },
        "tags": [],
        "id": "b6364ea6"
      },
      "source": [
        "# Decision Tree\n",
        "### Q9) Create and train a Decision Tree model called Tree using the training data (x_train, y_train)"
      ]
    },
    {
      "cell_type": "code",
      "execution_count": 17,
      "id": "a7aa0776",
      "metadata": {
        "execution": {
          "iopub.execute_input": "2022-12-27T06:47:42.064585Z",
          "iopub.status.busy": "2022-12-27T06:47:42.064138Z",
          "iopub.status.idle": "2022-12-27T06:47:42.090264Z",
          "shell.execute_reply": "2022-12-27T06:47:42.088732Z"
        },
        "papermill": {
          "duration": 0.042655,
          "end_time": "2022-12-27T06:47:42.093201",
          "exception": false,
          "start_time": "2022-12-27T06:47:42.050546",
          "status": "completed"
        },
        "tags": [],
        "colab": {
          "base_uri": "https://localhost:8080/",
          "height": 74
        },
        "id": "a7aa0776",
        "outputId": "818ebd49-fe0d-443f-9e7d-401c557e5013"
      },
      "outputs": [
        {
          "output_type": "execute_result",
          "data": {
            "text/plain": [
              "DecisionTreeClassifier(criterion='entropy', max_depth=4)"
            ],
            "text/html": [
              "<style>#sk-container-id-2 {color: black;background-color: white;}#sk-container-id-2 pre{padding: 0;}#sk-container-id-2 div.sk-toggleable {background-color: white;}#sk-container-id-2 label.sk-toggleable__label {cursor: pointer;display: block;width: 100%;margin-bottom: 0;padding: 0.3em;box-sizing: border-box;text-align: center;}#sk-container-id-2 label.sk-toggleable__label-arrow:before {content: \"▸\";float: left;margin-right: 0.25em;color: #696969;}#sk-container-id-2 label.sk-toggleable__label-arrow:hover:before {color: black;}#sk-container-id-2 div.sk-estimator:hover label.sk-toggleable__label-arrow:before {color: black;}#sk-container-id-2 div.sk-toggleable__content {max-height: 0;max-width: 0;overflow: hidden;text-align: left;background-color: #f0f8ff;}#sk-container-id-2 div.sk-toggleable__content pre {margin: 0.2em;color: black;border-radius: 0.25em;background-color: #f0f8ff;}#sk-container-id-2 input.sk-toggleable__control:checked~div.sk-toggleable__content {max-height: 200px;max-width: 100%;overflow: auto;}#sk-container-id-2 input.sk-toggleable__control:checked~label.sk-toggleable__label-arrow:before {content: \"▾\";}#sk-container-id-2 div.sk-estimator input.sk-toggleable__control:checked~label.sk-toggleable__label {background-color: #d4ebff;}#sk-container-id-2 div.sk-label input.sk-toggleable__control:checked~label.sk-toggleable__label {background-color: #d4ebff;}#sk-container-id-2 input.sk-hidden--visually {border: 0;clip: rect(1px 1px 1px 1px);clip: rect(1px, 1px, 1px, 1px);height: 1px;margin: -1px;overflow: hidden;padding: 0;position: absolute;width: 1px;}#sk-container-id-2 div.sk-estimator {font-family: monospace;background-color: #f0f8ff;border: 1px dotted black;border-radius: 0.25em;box-sizing: border-box;margin-bottom: 0.5em;}#sk-container-id-2 div.sk-estimator:hover {background-color: #d4ebff;}#sk-container-id-2 div.sk-parallel-item::after {content: \"\";width: 100%;border-bottom: 1px solid gray;flex-grow: 1;}#sk-container-id-2 div.sk-label:hover label.sk-toggleable__label {background-color: #d4ebff;}#sk-container-id-2 div.sk-serial::before {content: \"\";position: absolute;border-left: 1px solid gray;box-sizing: border-box;top: 0;bottom: 0;left: 50%;z-index: 0;}#sk-container-id-2 div.sk-serial {display: flex;flex-direction: column;align-items: center;background-color: white;padding-right: 0.2em;padding-left: 0.2em;position: relative;}#sk-container-id-2 div.sk-item {position: relative;z-index: 1;}#sk-container-id-2 div.sk-parallel {display: flex;align-items: stretch;justify-content: center;background-color: white;position: relative;}#sk-container-id-2 div.sk-item::before, #sk-container-id-2 div.sk-parallel-item::before {content: \"\";position: absolute;border-left: 1px solid gray;box-sizing: border-box;top: 0;bottom: 0;left: 50%;z-index: -1;}#sk-container-id-2 div.sk-parallel-item {display: flex;flex-direction: column;z-index: 1;position: relative;background-color: white;}#sk-container-id-2 div.sk-parallel-item:first-child::after {align-self: flex-end;width: 50%;}#sk-container-id-2 div.sk-parallel-item:last-child::after {align-self: flex-start;width: 50%;}#sk-container-id-2 div.sk-parallel-item:only-child::after {width: 0;}#sk-container-id-2 div.sk-dashed-wrapped {border: 1px dashed gray;margin: 0 0.4em 0.5em 0.4em;box-sizing: border-box;padding-bottom: 0.4em;background-color: white;}#sk-container-id-2 div.sk-label label {font-family: monospace;font-weight: bold;display: inline-block;line-height: 1.2em;}#sk-container-id-2 div.sk-label-container {text-align: center;}#sk-container-id-2 div.sk-container {/* jupyter's `normalize.less` sets `[hidden] { display: none; }` but bootstrap.min.css set `[hidden] { display: none !important; }` so we also need the `!important` here to be able to override the default hidden behavior on the sphinx rendered scikit-learn.org. See: https://github.com/scikit-learn/scikit-learn/issues/21755 */display: inline-block !important;position: relative;}#sk-container-id-2 div.sk-text-repr-fallback {display: none;}</style><div id=\"sk-container-id-2\" class=\"sk-top-container\"><div class=\"sk-text-repr-fallback\"><pre>DecisionTreeClassifier(criterion=&#x27;entropy&#x27;, max_depth=4)</pre><b>In a Jupyter environment, please rerun this cell to show the HTML representation or trust the notebook. <br />On GitHub, the HTML representation is unable to render, please try loading this page with nbviewer.org.</b></div><div class=\"sk-container\" hidden><div class=\"sk-item\"><div class=\"sk-estimator sk-toggleable\"><input class=\"sk-toggleable__control sk-hidden--visually\" id=\"sk-estimator-id-2\" type=\"checkbox\" checked><label for=\"sk-estimator-id-2\" class=\"sk-toggleable__label sk-toggleable__label-arrow\">DecisionTreeClassifier</label><div class=\"sk-toggleable__content\"><pre>DecisionTreeClassifier(criterion=&#x27;entropy&#x27;, max_depth=4)</pre></div></div></div></div></div>"
            ]
          },
          "metadata": {},
          "execution_count": 17
        }
      ],
      "source": [
        "#Enter Your Code, Execute and take the Screenshot\n",
        "Tree = DecisionTreeClassifier(criterion=\"entropy\", max_depth = 4)\n",
        "Tree.fit(x_train, y_train)"
      ]
    },
    {
      "cell_type": "markdown",
      "id": "7e57e31b",
      "metadata": {
        "papermill": {
          "duration": 0.01177,
          "end_time": "2022-12-27T06:47:42.117587",
          "exception": false,
          "start_time": "2022-12-27T06:47:42.105817",
          "status": "completed"
        },
        "tags": [],
        "id": "7e57e31b"
      },
      "source": [
        "### Q10) Now use the predict method on the testing data (x_test) and save it to the array predictions."
      ]
    },
    {
      "cell_type": "code",
      "execution_count": 18,
      "id": "89af59b9",
      "metadata": {
        "execution": {
          "iopub.execute_input": "2022-12-27T06:47:42.143893Z",
          "iopub.status.busy": "2022-12-27T06:47:42.143198Z",
          "iopub.status.idle": "2022-12-27T06:47:42.149892Z",
          "shell.execute_reply": "2022-12-27T06:47:42.148936Z"
        },
        "papermill": {
          "duration": 0.022812,
          "end_time": "2022-12-27T06:47:42.152354",
          "exception": false,
          "start_time": "2022-12-27T06:47:42.129542",
          "status": "completed"
        },
        "tags": [],
        "id": "89af59b9"
      },
      "outputs": [],
      "source": [
        "#Enter Your Code, Execute and take the Screenshot\n",
        "predictions = Tree.predict(x_test)"
      ]
    },
    {
      "cell_type": "markdown",
      "id": "b9891c59",
      "metadata": {
        "papermill": {
          "duration": 0.011817,
          "end_time": "2022-12-27T06:47:42.176256",
          "exception": false,
          "start_time": "2022-12-27T06:47:42.164439",
          "status": "completed"
        },
        "tags": [],
        "id": "b9891c59"
      },
      "source": [
        "### Q11) Using the predictions and the y_test dataframe calculate the value for each metric using the appropriate function."
      ]
    },
    {
      "cell_type": "code",
      "execution_count": 19,
      "id": "b3ff4657",
      "metadata": {
        "execution": {
          "iopub.execute_input": "2022-12-27T06:47:42.204363Z",
          "iopub.status.busy": "2022-12-27T06:47:42.203936Z",
          "iopub.status.idle": "2022-12-27T06:47:42.219753Z",
          "shell.execute_reply": "2022-12-27T06:47:42.218104Z"
        },
        "papermill": {
          "duration": 0.033939,
          "end_time": "2022-12-27T06:47:42.222816",
          "exception": false,
          "start_time": "2022-12-27T06:47:42.188877",
          "status": "completed"
        },
        "tags": [],
        "colab": {
          "base_uri": "https://localhost:8080/"
        },
        "id": "b3ff4657",
        "outputId": "56d86790-a661-42e2-b90d-a3aac6e4c4ad"
      },
      "outputs": [
        {
          "output_type": "stream",
          "name": "stdout",
          "text": [
            "Tree accur_acy score:  0.8183206106870229\n",
            "Tree JaccardIndex :  0.48034934497816595\n",
            "Tree_F1_Score :  0.6489675516224188\n",
            "Tree Log Loss :  6.548388936343421\n"
          ]
        }
      ],
      "source": [
        "#Enter Your Code, Execute and take the Screenshot\n",
        "Tree_Accuracy_Score = metrics.accuracy_score(y_test, predictions)\n",
        "Tree_JaccardIndex = metrics.jaccard_score(y_test, predictions)\n",
        "Tree_F1_Score = metrics.f1_score(y_test, predictions)\n",
        "Tree_Log_Loss = metrics.log_loss(y_test, predictions)\n",
        "print(\"Tree accur_acy score: \", Tree_Accuracy_Score)\n",
        "print(\"Tree JaccardIndex : \", Tree_JaccardIndex)\n",
        "print(\"Tree_F1_Score : \", Tree_F1_Score)\n",
        "print(\"Tree Log Loss : \", Tree_Log_Loss)"
      ]
    },
    {
      "cell_type": "markdown",
      "id": "b4ab7bdb",
      "metadata": {
        "papermill": {
          "duration": 0.012779,
          "end_time": "2022-12-27T06:47:42.248052",
          "exception": false,
          "start_time": "2022-12-27T06:47:42.235273",
          "status": "completed"
        },
        "tags": [],
        "id": "b4ab7bdb"
      },
      "source": [
        "# Logistic Regression\n",
        "### Q12) Use the train_test_split function to split the features and Y dataframes with a test_size of 0.2 and the random_state set to 1"
      ]
    },
    {
      "cell_type": "code",
      "execution_count": 20,
      "id": "73502f50",
      "metadata": {
        "execution": {
          "iopub.execute_input": "2022-12-27T06:47:42.275085Z",
          "iopub.status.busy": "2022-12-27T06:47:42.274617Z",
          "iopub.status.idle": "2022-12-27T06:47:42.283614Z",
          "shell.execute_reply": "2022-12-27T06:47:42.282388Z"
        },
        "papermill": {
          "duration": 0.026264,
          "end_time": "2022-12-27T06:47:42.286347",
          "exception": false,
          "start_time": "2022-12-27T06:47:42.260083",
          "status": "completed"
        },
        "tags": [],
        "id": "73502f50"
      },
      "outputs": [],
      "source": [
        "#Enter Your Code, Execute and take the Screenshot\n",
        "x_train, x_test, y_train, y_test = train_test_split(features, Y, test_size = 0.2, random_state =1)"
      ]
    },
    {
      "cell_type": "code",
      "execution_count": 21,
      "id": "bf82ae9d",
      "metadata": {
        "execution": {
          "iopub.execute_input": "2022-12-27T06:47:42.316699Z",
          "iopub.status.busy": "2022-12-27T06:47:42.316222Z",
          "iopub.status.idle": "2022-12-27T06:47:42.323124Z",
          "shell.execute_reply": "2022-12-27T06:47:42.321785Z"
        },
        "papermill": {
          "duration": 0.028091,
          "end_time": "2022-12-27T06:47:42.326545",
          "exception": false,
          "start_time": "2022-12-27T06:47:42.298454",
          "status": "completed"
        },
        "tags": [],
        "colab": {
          "base_uri": "https://localhost:8080/"
        },
        "id": "bf82ae9d",
        "outputId": "aab918c6-1061-4dba-dd0f-ba4dc8f22e1c"
      },
      "outputs": [
        {
          "output_type": "stream",
          "name": "stdout",
          "text": [
            "Train set: (2616, 66) (2616,)\n",
            "Test set: (655, 66) (655,)\n"
          ]
        }
      ],
      "source": [
        "print ('Train set:', x_train.shape,  y_train.shape)\n",
        "print ('Test set:', x_test.shape,  y_test.shape)"
      ]
    },
    {
      "cell_type": "markdown",
      "id": "e06e0cc3",
      "metadata": {
        "papermill": {
          "duration": 0.012176,
          "end_time": "2022-12-27T06:47:42.351187",
          "exception": false,
          "start_time": "2022-12-27T06:47:42.339011",
          "status": "completed"
        },
        "tags": [],
        "id": "e06e0cc3"
      },
      "source": [
        "### Q13) Create and train a LogisticRegression model called LR using the training data (x_train, y_train) with the solver parameter set to liblinear"
      ]
    },
    {
      "cell_type": "code",
      "execution_count": 22,
      "id": "b86c5608",
      "metadata": {
        "execution": {
          "iopub.execute_input": "2022-12-27T06:47:42.378542Z",
          "iopub.status.busy": "2022-12-27T06:47:42.377600Z",
          "iopub.status.idle": "2022-12-27T06:47:42.423794Z",
          "shell.execute_reply": "2022-12-27T06:47:42.422467Z"
        },
        "papermill": {
          "duration": 0.062974,
          "end_time": "2022-12-27T06:47:42.426411",
          "exception": false,
          "start_time": "2022-12-27T06:47:42.363437",
          "status": "completed"
        },
        "tags": [],
        "colab": {
          "base_uri": "https://localhost:8080/",
          "height": 74
        },
        "id": "b86c5608",
        "outputId": "c576c544-a8d1-4940-c5d7-ace8a7c4a617"
      },
      "outputs": [
        {
          "output_type": "execute_result",
          "data": {
            "text/plain": [
              "LogisticRegression(C=0.01, solver='liblinear')"
            ],
            "text/html": [
              "<style>#sk-container-id-3 {color: black;background-color: white;}#sk-container-id-3 pre{padding: 0;}#sk-container-id-3 div.sk-toggleable {background-color: white;}#sk-container-id-3 label.sk-toggleable__label {cursor: pointer;display: block;width: 100%;margin-bottom: 0;padding: 0.3em;box-sizing: border-box;text-align: center;}#sk-container-id-3 label.sk-toggleable__label-arrow:before {content: \"▸\";float: left;margin-right: 0.25em;color: #696969;}#sk-container-id-3 label.sk-toggleable__label-arrow:hover:before {color: black;}#sk-container-id-3 div.sk-estimator:hover label.sk-toggleable__label-arrow:before {color: black;}#sk-container-id-3 div.sk-toggleable__content {max-height: 0;max-width: 0;overflow: hidden;text-align: left;background-color: #f0f8ff;}#sk-container-id-3 div.sk-toggleable__content pre {margin: 0.2em;color: black;border-radius: 0.25em;background-color: #f0f8ff;}#sk-container-id-3 input.sk-toggleable__control:checked~div.sk-toggleable__content {max-height: 200px;max-width: 100%;overflow: auto;}#sk-container-id-3 input.sk-toggleable__control:checked~label.sk-toggleable__label-arrow:before {content: \"▾\";}#sk-container-id-3 div.sk-estimator input.sk-toggleable__control:checked~label.sk-toggleable__label {background-color: #d4ebff;}#sk-container-id-3 div.sk-label input.sk-toggleable__control:checked~label.sk-toggleable__label {background-color: #d4ebff;}#sk-container-id-3 input.sk-hidden--visually {border: 0;clip: rect(1px 1px 1px 1px);clip: rect(1px, 1px, 1px, 1px);height: 1px;margin: -1px;overflow: hidden;padding: 0;position: absolute;width: 1px;}#sk-container-id-3 div.sk-estimator {font-family: monospace;background-color: #f0f8ff;border: 1px dotted black;border-radius: 0.25em;box-sizing: border-box;margin-bottom: 0.5em;}#sk-container-id-3 div.sk-estimator:hover {background-color: #d4ebff;}#sk-container-id-3 div.sk-parallel-item::after {content: \"\";width: 100%;border-bottom: 1px solid gray;flex-grow: 1;}#sk-container-id-3 div.sk-label:hover label.sk-toggleable__label {background-color: #d4ebff;}#sk-container-id-3 div.sk-serial::before {content: \"\";position: absolute;border-left: 1px solid gray;box-sizing: border-box;top: 0;bottom: 0;left: 50%;z-index: 0;}#sk-container-id-3 div.sk-serial {display: flex;flex-direction: column;align-items: center;background-color: white;padding-right: 0.2em;padding-left: 0.2em;position: relative;}#sk-container-id-3 div.sk-item {position: relative;z-index: 1;}#sk-container-id-3 div.sk-parallel {display: flex;align-items: stretch;justify-content: center;background-color: white;position: relative;}#sk-container-id-3 div.sk-item::before, #sk-container-id-3 div.sk-parallel-item::before {content: \"\";position: absolute;border-left: 1px solid gray;box-sizing: border-box;top: 0;bottom: 0;left: 50%;z-index: -1;}#sk-container-id-3 div.sk-parallel-item {display: flex;flex-direction: column;z-index: 1;position: relative;background-color: white;}#sk-container-id-3 div.sk-parallel-item:first-child::after {align-self: flex-end;width: 50%;}#sk-container-id-3 div.sk-parallel-item:last-child::after {align-self: flex-start;width: 50%;}#sk-container-id-3 div.sk-parallel-item:only-child::after {width: 0;}#sk-container-id-3 div.sk-dashed-wrapped {border: 1px dashed gray;margin: 0 0.4em 0.5em 0.4em;box-sizing: border-box;padding-bottom: 0.4em;background-color: white;}#sk-container-id-3 div.sk-label label {font-family: monospace;font-weight: bold;display: inline-block;line-height: 1.2em;}#sk-container-id-3 div.sk-label-container {text-align: center;}#sk-container-id-3 div.sk-container {/* jupyter's `normalize.less` sets `[hidden] { display: none; }` but bootstrap.min.css set `[hidden] { display: none !important; }` so we also need the `!important` here to be able to override the default hidden behavior on the sphinx rendered scikit-learn.org. See: https://github.com/scikit-learn/scikit-learn/issues/21755 */display: inline-block !important;position: relative;}#sk-container-id-3 div.sk-text-repr-fallback {display: none;}</style><div id=\"sk-container-id-3\" class=\"sk-top-container\"><div class=\"sk-text-repr-fallback\"><pre>LogisticRegression(C=0.01, solver=&#x27;liblinear&#x27;)</pre><b>In a Jupyter environment, please rerun this cell to show the HTML representation or trust the notebook. <br />On GitHub, the HTML representation is unable to render, please try loading this page with nbviewer.org.</b></div><div class=\"sk-container\" hidden><div class=\"sk-item\"><div class=\"sk-estimator sk-toggleable\"><input class=\"sk-toggleable__control sk-hidden--visually\" id=\"sk-estimator-id-3\" type=\"checkbox\" checked><label for=\"sk-estimator-id-3\" class=\"sk-toggleable__label sk-toggleable__label-arrow\">LogisticRegression</label><div class=\"sk-toggleable__content\"><pre>LogisticRegression(C=0.01, solver=&#x27;liblinear&#x27;)</pre></div></div></div></div></div>"
            ]
          },
          "metadata": {},
          "execution_count": 22
        }
      ],
      "source": [
        "#Enter Your Code, Execute and take the Screenshot\n",
        "LR = LogisticRegression(C=0.01, solver='liblinear').fit(x_train,y_train)\n",
        "LR"
      ]
    },
    {
      "cell_type": "markdown",
      "id": "4a9a238b",
      "metadata": {
        "papermill": {
          "duration": 0.012253,
          "end_time": "2022-12-27T06:47:42.450902",
          "exception": false,
          "start_time": "2022-12-27T06:47:42.438649",
          "status": "completed"
        },
        "tags": [],
        "id": "4a9a238b"
      },
      "source": [
        "### Q14) Now, use the predict method on the testing data (x_test) and save it to the array predictions."
      ]
    },
    {
      "cell_type": "code",
      "execution_count": 23,
      "id": "76a8d9a6",
      "metadata": {
        "execution": {
          "iopub.execute_input": "2022-12-27T06:47:42.479193Z",
          "iopub.status.busy": "2022-12-27T06:47:42.477134Z",
          "iopub.status.idle": "2022-12-27T06:47:42.490376Z",
          "shell.execute_reply": "2022-12-27T06:47:42.488557Z"
        },
        "papermill": {
          "duration": 0.031422,
          "end_time": "2022-12-27T06:47:42.494820",
          "exception": false,
          "start_time": "2022-12-27T06:47:42.463398",
          "status": "completed"
        },
        "tags": [],
        "id": "76a8d9a6"
      },
      "outputs": [],
      "source": [
        "#Enter Your Code, Execute and take the Screenshot\n",
        "predictions = LR.predict(x_test)"
      ]
    },
    {
      "cell_type": "markdown",
      "id": "6dc04cdf",
      "metadata": {
        "papermill": {
          "duration": 0.032215,
          "end_time": "2022-12-27T06:47:42.559678",
          "exception": false,
          "start_time": "2022-12-27T06:47:42.527463",
          "status": "completed"
        },
        "tags": [],
        "id": "6dc04cdf"
      },
      "source": [
        "### Q15) Using the predictions and the y_test dataframe calculate the value for each metric using the appropriate function"
      ]
    },
    {
      "cell_type": "code",
      "execution_count": 24,
      "id": "0cabbe40",
      "metadata": {
        "execution": {
          "iopub.execute_input": "2022-12-27T06:47:42.614524Z",
          "iopub.status.busy": "2022-12-27T06:47:42.614088Z",
          "iopub.status.idle": "2022-12-27T06:47:42.630633Z",
          "shell.execute_reply": "2022-12-27T06:47:42.628888Z"
        },
        "papermill": {
          "duration": 0.040657,
          "end_time": "2022-12-27T06:47:42.633096",
          "exception": false,
          "start_time": "2022-12-27T06:47:42.592439",
          "status": "completed"
        },
        "tags": [],
        "colab": {
          "base_uri": "https://localhost:8080/"
        },
        "id": "0cabbe40",
        "outputId": "710685e5-3cd9-4bd8-ad57-919b149e2050"
      },
      "outputs": [
        {
          "output_type": "stream",
          "name": "stdout",
          "text": [
            "LR accuracy score:  0.8274809160305343\n",
            "LR JaccardIndex :  0.4840182648401826\n",
            "LR F1 Score :  0.6523076923076923\n",
            "LR Log Loss :  6.218218065603417\n"
          ]
        }
      ],
      "source": [
        "#Enter Your Code, Execute and take the Screenshot\n",
        "LR_Accuracy_Score = metrics.accuracy_score(y_test,predictions)\n",
        "LR_JaccardIndex = metrics.jaccard_score(y_test,predictions)\n",
        "LR_F1_Score = metrics.f1_score(y_test,predictions)\n",
        "LR_Log_Loss = metrics.log_loss(y_test, predictions)\n",
        "print(\"LR accuracy score: \", LR_Accuracy_Score)\n",
        "print(\"LR JaccardIndex : \", LR_JaccardIndex)\n",
        "print(\"LR F1 Score : \", LR_F1_Score)\n",
        "print(\"LR Log Loss : \", LR_Log_Loss)"
      ]
    },
    {
      "cell_type": "markdown",
      "id": "b4a716d6",
      "metadata": {
        "papermill": {
          "duration": 0.013038,
          "end_time": "2022-12-27T06:47:42.658448",
          "exception": false,
          "start_time": "2022-12-27T06:47:42.645410",
          "status": "completed"
        },
        "tags": [],
        "id": "b4a716d6"
      },
      "source": [
        "# SVM\n",
        "### Q16) Create and train a SVM model called SVM using the training data (x_train, y_train)."
      ]
    },
    {
      "cell_type": "code",
      "execution_count": 25,
      "id": "d2fc85da",
      "metadata": {
        "execution": {
          "iopub.execute_input": "2022-12-27T06:47:42.685826Z",
          "iopub.status.busy": "2022-12-27T06:47:42.685080Z",
          "iopub.status.idle": "2022-12-27T06:47:45.308449Z",
          "shell.execute_reply": "2022-12-27T06:47:45.307241Z"
        },
        "papermill": {
          "duration": 2.640257,
          "end_time": "2022-12-27T06:47:45.311119",
          "exception": false,
          "start_time": "2022-12-27T06:47:42.670862",
          "status": "completed"
        },
        "tags": [],
        "colab": {
          "base_uri": "https://localhost:8080/",
          "height": 74
        },
        "id": "d2fc85da",
        "outputId": "48058df8-f8e3-4ea1-a765-da5b6cf5b9fa"
      },
      "outputs": [
        {
          "output_type": "execute_result",
          "data": {
            "text/plain": [
              "SVC(kernel='linear')"
            ],
            "text/html": [
              "<style>#sk-container-id-4 {color: black;background-color: white;}#sk-container-id-4 pre{padding: 0;}#sk-container-id-4 div.sk-toggleable {background-color: white;}#sk-container-id-4 label.sk-toggleable__label {cursor: pointer;display: block;width: 100%;margin-bottom: 0;padding: 0.3em;box-sizing: border-box;text-align: center;}#sk-container-id-4 label.sk-toggleable__label-arrow:before {content: \"▸\";float: left;margin-right: 0.25em;color: #696969;}#sk-container-id-4 label.sk-toggleable__label-arrow:hover:before {color: black;}#sk-container-id-4 div.sk-estimator:hover label.sk-toggleable__label-arrow:before {color: black;}#sk-container-id-4 div.sk-toggleable__content {max-height: 0;max-width: 0;overflow: hidden;text-align: left;background-color: #f0f8ff;}#sk-container-id-4 div.sk-toggleable__content pre {margin: 0.2em;color: black;border-radius: 0.25em;background-color: #f0f8ff;}#sk-container-id-4 input.sk-toggleable__control:checked~div.sk-toggleable__content {max-height: 200px;max-width: 100%;overflow: auto;}#sk-container-id-4 input.sk-toggleable__control:checked~label.sk-toggleable__label-arrow:before {content: \"▾\";}#sk-container-id-4 div.sk-estimator input.sk-toggleable__control:checked~label.sk-toggleable__label {background-color: #d4ebff;}#sk-container-id-4 div.sk-label input.sk-toggleable__control:checked~label.sk-toggleable__label {background-color: #d4ebff;}#sk-container-id-4 input.sk-hidden--visually {border: 0;clip: rect(1px 1px 1px 1px);clip: rect(1px, 1px, 1px, 1px);height: 1px;margin: -1px;overflow: hidden;padding: 0;position: absolute;width: 1px;}#sk-container-id-4 div.sk-estimator {font-family: monospace;background-color: #f0f8ff;border: 1px dotted black;border-radius: 0.25em;box-sizing: border-box;margin-bottom: 0.5em;}#sk-container-id-4 div.sk-estimator:hover {background-color: #d4ebff;}#sk-container-id-4 div.sk-parallel-item::after {content: \"\";width: 100%;border-bottom: 1px solid gray;flex-grow: 1;}#sk-container-id-4 div.sk-label:hover label.sk-toggleable__label {background-color: #d4ebff;}#sk-container-id-4 div.sk-serial::before {content: \"\";position: absolute;border-left: 1px solid gray;box-sizing: border-box;top: 0;bottom: 0;left: 50%;z-index: 0;}#sk-container-id-4 div.sk-serial {display: flex;flex-direction: column;align-items: center;background-color: white;padding-right: 0.2em;padding-left: 0.2em;position: relative;}#sk-container-id-4 div.sk-item {position: relative;z-index: 1;}#sk-container-id-4 div.sk-parallel {display: flex;align-items: stretch;justify-content: center;background-color: white;position: relative;}#sk-container-id-4 div.sk-item::before, #sk-container-id-4 div.sk-parallel-item::before {content: \"\";position: absolute;border-left: 1px solid gray;box-sizing: border-box;top: 0;bottom: 0;left: 50%;z-index: -1;}#sk-container-id-4 div.sk-parallel-item {display: flex;flex-direction: column;z-index: 1;position: relative;background-color: white;}#sk-container-id-4 div.sk-parallel-item:first-child::after {align-self: flex-end;width: 50%;}#sk-container-id-4 div.sk-parallel-item:last-child::after {align-self: flex-start;width: 50%;}#sk-container-id-4 div.sk-parallel-item:only-child::after {width: 0;}#sk-container-id-4 div.sk-dashed-wrapped {border: 1px dashed gray;margin: 0 0.4em 0.5em 0.4em;box-sizing: border-box;padding-bottom: 0.4em;background-color: white;}#sk-container-id-4 div.sk-label label {font-family: monospace;font-weight: bold;display: inline-block;line-height: 1.2em;}#sk-container-id-4 div.sk-label-container {text-align: center;}#sk-container-id-4 div.sk-container {/* jupyter's `normalize.less` sets `[hidden] { display: none; }` but bootstrap.min.css set `[hidden] { display: none !important; }` so we also need the `!important` here to be able to override the default hidden behavior on the sphinx rendered scikit-learn.org. See: https://github.com/scikit-learn/scikit-learn/issues/21755 */display: inline-block !important;position: relative;}#sk-container-id-4 div.sk-text-repr-fallback {display: none;}</style><div id=\"sk-container-id-4\" class=\"sk-top-container\"><div class=\"sk-text-repr-fallback\"><pre>SVC(kernel=&#x27;linear&#x27;)</pre><b>In a Jupyter environment, please rerun this cell to show the HTML representation or trust the notebook. <br />On GitHub, the HTML representation is unable to render, please try loading this page with nbviewer.org.</b></div><div class=\"sk-container\" hidden><div class=\"sk-item\"><div class=\"sk-estimator sk-toggleable\"><input class=\"sk-toggleable__control sk-hidden--visually\" id=\"sk-estimator-id-4\" type=\"checkbox\" checked><label for=\"sk-estimator-id-4\" class=\"sk-toggleable__label sk-toggleable__label-arrow\">SVC</label><div class=\"sk-toggleable__content\"><pre>SVC(kernel=&#x27;linear&#x27;)</pre></div></div></div></div></div>"
            ]
          },
          "metadata": {},
          "execution_count": 25
        }
      ],
      "source": [
        "#Enter Your Code Below, Execute, and Save the Screenshot of the Final Output\n",
        "SVM = svm.SVC(kernel='linear')\n",
        "SVM.fit(x_train, y_train)"
      ]
    },
    {
      "cell_type": "markdown",
      "id": "3b93c65e",
      "metadata": {
        "papermill": {
          "duration": 0.013146,
          "end_time": "2022-12-27T06:47:45.336548",
          "exception": false,
          "start_time": "2022-12-27T06:47:45.323402",
          "status": "completed"
        },
        "tags": [],
        "id": "3b93c65e"
      },
      "source": [
        "### Q17) Now use the predict method on the testing data (x_test) and save it to the array predictions."
      ]
    },
    {
      "cell_type": "code",
      "execution_count": 26,
      "id": "7989c299",
      "metadata": {
        "execution": {
          "iopub.execute_input": "2022-12-27T06:47:45.364955Z",
          "iopub.status.busy": "2022-12-27T06:47:45.363744Z",
          "iopub.status.idle": "2022-12-27T06:47:45.395287Z",
          "shell.execute_reply": "2022-12-27T06:47:45.394000Z"
        },
        "papermill": {
          "duration": 0.049381,
          "end_time": "2022-12-27T06:47:45.398088",
          "exception": false,
          "start_time": "2022-12-27T06:47:45.348707",
          "status": "completed"
        },
        "tags": [],
        "id": "7989c299"
      },
      "outputs": [],
      "source": [
        "#Enter Your Code Below, Execute, and Save the Screenshot of the Final Output\n",
        "predictions = SVM.predict(x_test)"
      ]
    },
    {
      "cell_type": "markdown",
      "id": "becbda6b",
      "metadata": {
        "papermill": {
          "duration": 0.011833,
          "end_time": "2022-12-27T06:47:45.422256",
          "exception": false,
          "start_time": "2022-12-27T06:47:45.410423",
          "status": "completed"
        },
        "tags": [],
        "id": "becbda6b"
      },
      "source": [
        "### Q18) Using the predictions and the y_test dataframe calculate the value for each metric using the appropriate function"
      ]
    },
    {
      "cell_type": "code",
      "execution_count": 27,
      "id": "61e2ba08",
      "metadata": {
        "execution": {
          "iopub.execute_input": "2022-12-27T06:47:45.448544Z",
          "iopub.status.busy": "2022-12-27T06:47:45.448106Z",
          "iopub.status.idle": "2022-12-27T06:47:45.461494Z",
          "shell.execute_reply": "2022-12-27T06:47:45.460070Z"
        },
        "papermill": {
          "duration": 0.02993,
          "end_time": "2022-12-27T06:47:45.464316",
          "exception": false,
          "start_time": "2022-12-27T06:47:45.434386",
          "status": "completed"
        },
        "tags": [],
        "colab": {
          "base_uri": "https://localhost:8080/"
        },
        "id": "61e2ba08",
        "outputId": "ff419082-ba2c-43f4-d8b7-ce0f9581f30c"
      },
      "outputs": [
        {
          "output_type": "stream",
          "name": "stdout",
          "text": [
            "SVM accuracy score :  0.8458015267175573\n",
            "SVM jaccardIndex :  0.5345622119815668\n",
            "SVM F1_score :  0.6966966966966968\n",
            "SVM Log Loss :  5.557876324123408\n"
          ]
        }
      ],
      "source": [
        "SVM_Accuracy_Score = metrics.accuracy_score(y_test, predictions)\n",
        "SVM_JaccardIndex = metrics.jaccard_score(y_test, predictions)\n",
        "SVM_F1_Score = metrics.f1_score(y_test, predictions)\n",
        "SVM_Log_Loss = metrics.log_loss(y_test, predictions)\n",
        "print(\"SVM accuracy score : \", SVM_Accuracy_Score)\n",
        "print(\"SVM jaccardIndex : \", SVM_JaccardIndex)\n",
        "print(\"SVM F1_score : \", SVM_F1_Score)\n",
        "print(\"SVM Log Loss : \", SVM_Log_Loss)"
      ]
    },
    {
      "cell_type": "markdown",
      "id": "da0b6a74",
      "metadata": {
        "papermill": {
          "duration": 0.011837,
          "end_time": "2022-12-27T06:47:45.488737",
          "exception": false,
          "start_time": "2022-12-27T06:47:45.476900",
          "status": "completed"
        },
        "tags": [],
        "id": "da0b6a74"
      },
      "source": [
        "# Report\n",
        "### Q19) Show the Accuracy,Jaccard Index,F1-Score and LogLoss in a tabular format using data frame for all of the above models.\n",
        "*LogLoss is only for Logistic Regression Model"
      ]
    },
    {
      "cell_type": "code",
      "execution_count": 28,
      "id": "268706c1",
      "metadata": {
        "execution": {
          "iopub.execute_input": "2022-12-27T06:47:45.515677Z",
          "iopub.status.busy": "2022-12-27T06:47:45.515266Z",
          "iopub.status.idle": "2022-12-27T06:47:45.524854Z",
          "shell.execute_reply": "2022-12-27T06:47:45.523538Z"
        },
        "papermill": {
          "duration": 0.026665,
          "end_time": "2022-12-27T06:47:45.527619",
          "exception": false,
          "start_time": "2022-12-27T06:47:45.500954",
          "status": "completed"
        },
        "tags": [],
        "colab": {
          "base_uri": "https://localhost:8080/"
        },
        "id": "268706c1",
        "outputId": "37310f69-68b9-4c6d-ecdc-03e1a6baa3b5"
      },
      "outputs": [
        {
          "output_type": "stream",
          "name": "stdout",
          "text": [
            "+---------------+----------+----------+----------+----------+\n",
            "|               |      KNN |     Tree |       LR |      SVM |\n",
            "|---------------+----------+----------+----------+----------|\n",
            "| Accuracy      | 0.818321 | 0.818321 | 0.827481 | 0.845802 |\n",
            "| Jaccard Index | 0.425121 | 0.480349 | 0.484018 | 0.534562 |\n",
            "| F1-Score      | 0.59661  | 0.648968 | 0.652308 | 0.696697 |\n",
            "| LogLoss       | 6.54839  | 6.54839  | 6.21822  | 5.55788  |\n",
            "+---------------+----------+----------+----------+----------+\n"
          ]
        }
      ],
      "source": [
        "d = {'KNN':[KNN_Accuracy_Score,KNN_JaccardIndex,KNN_F1_Score,KNN_Log_Loss],\n",
        "     'Tree':[Tree_Accuracy_Score, Tree_JaccardIndex, Tree_F1_Score, Tree_Log_Loss],\n",
        "     'LR':[LR_Accuracy_Score, LR_JaccardIndex, LR_F1_Score,LR_Log_Loss],\n",
        "     'SVM':[SVM_Accuracy_Score, SVM_JaccardIndex, SVM_F1_Score, SVM_Log_Loss]}\n",
        "Report = pd.DataFrame(data=d, index = ['Accuracy','Jaccard Index','F1-Score', 'LogLoss'])\n",
        "print(tabulate(Report, headers = 'keys', tablefmt = 'psql'))"
      ]
    },
    {
      "cell_type": "code",
      "source": [],
      "metadata": {
        "id": "RD7rP7iW7fKS"
      },
      "id": "RD7rP7iW7fKS",
      "execution_count": null,
      "outputs": []
    }
  ],
  "metadata": {
    "kernelspec": {
      "display_name": "Python 3",
      "language": "python",
      "name": "python3"
    },
    "language_info": {
      "codemirror_mode": {
        "name": "ipython",
        "version": 3
      },
      "file_extension": ".py",
      "mimetype": "text/x-python",
      "name": "python",
      "nbconvert_exporter": "python",
      "pygments_lexer": "ipython3",
      "version": "3.7.12"
    },
    "papermill": {
      "default_parameters": {},
      "duration": 31.850119,
      "end_time": "2022-12-27T06:47:46.363351",
      "environment_variables": {},
      "exception": null,
      "input_path": "__notebook__.ipynb",
      "output_path": "__notebook__.ipynb",
      "parameters": {},
      "start_time": "2022-12-27T06:47:14.513232",
      "version": "2.3.4"
    },
    "colab": {
      "provenance": []
    }
  },
  "nbformat": 4,
  "nbformat_minor": 5
}